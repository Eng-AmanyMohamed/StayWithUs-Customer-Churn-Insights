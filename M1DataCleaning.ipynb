{
 "cells": [
  {
   "cell_type": "markdown",
   "id": "a86167b9",
   "metadata": {},
   "source": [
    "## Telco Customer Churn – Data Cleaning Notebook\n",
    "\n",
    "### Description:\n",
    "This notebook performs a reproducible data cleaning pipeline for the Telco Customer Churn dataset.\n",
    "It includes: loading the data, inspecting it, dropping unwanted columns, converting types, imputing missing values, encoding categorical variables (binary + top-N strategy), scaling numeric features, and saving a cleaned CSV ready for modeling.\n",
    "\n",
    "Target column: Churn Value (0 = No, 1 = Yes)\n",
    "Dropped columns : Churn Label, Lat Long, Latitude, Longitude, Count, Zip Code"
   ]
  },
  {
   "cell_type": "markdown",
   "id": "1f9cb5b1",
   "metadata": {},
   "source": [
    "### Objectives\n",
    "\n",
    "- Load the Telco dataset.\n",
    "- Inspect structure, types, and missing values.\n",
    "- Remove specified columns.\n",
    "- Convert Total Charges to numeric.\n",
    "- Impute missing values (median for numeric, mode for categorical).\n",
    "- Encode categorical variables:\n",
    "- Map binary-like columns to 0/1.\n",
    "- One-hot encode low-cardinality categoricals (≤ 20 unique values).\n",
    "- For high-cardinality categoricals, keep top-10 categories and mark others as Other then one-hot encode.\n",
    "- Scale numeric features (StandardScaler).\n",
    "- Export cleaned CSV: /Cleandata/cleaned_customer_churn.csv"
   ]
  },
  {
   "cell_type": "code",
   "execution_count": 48,
   "id": "ef48cd19",
   "metadata": {},
   "outputs": [],
   "source": [
    "import pandas as pd\n",
    "import numpy as np\n",
    "INPUT_PATH = \"RawData/Telco_customer_churn.csv\"\n",
    "OUTPUT_PATH = \"RawData/cleaned_customer_churn.csv\"\n"
   ]
  },
  {
   "cell_type": "code",
   "execution_count": 49,
   "id": "e426894a",
   "metadata": {},
   "outputs": [
    {
     "name": "stdout",
     "output_type": "stream",
     "text": [
      "Loaded dataset shape: (7043, 33)\n"
     ]
    },
    {
     "data": {
      "application/vnd.microsoft.datawrangler.viewer.v0+json": {
       "columns": [
        {
         "name": "index",
         "rawType": "int64",
         "type": "integer"
        },
        {
         "name": "CustomerID",
         "rawType": "object",
         "type": "string"
        },
        {
         "name": "Count",
         "rawType": "int64",
         "type": "integer"
        },
        {
         "name": "Country",
         "rawType": "object",
         "type": "string"
        },
        {
         "name": "State",
         "rawType": "object",
         "type": "string"
        },
        {
         "name": "City",
         "rawType": "object",
         "type": "string"
        },
        {
         "name": "Zip Code",
         "rawType": "int64",
         "type": "integer"
        },
        {
         "name": "Lat Long",
         "rawType": "object",
         "type": "string"
        },
        {
         "name": "Latitude",
         "rawType": "float64",
         "type": "float"
        },
        {
         "name": "Longitude",
         "rawType": "float64",
         "type": "float"
        },
        {
         "name": "Gender",
         "rawType": "object",
         "type": "string"
        },
        {
         "name": "Senior Citizen",
         "rawType": "object",
         "type": "string"
        },
        {
         "name": "Partner",
         "rawType": "object",
         "type": "string"
        },
        {
         "name": "Dependents",
         "rawType": "object",
         "type": "string"
        },
        {
         "name": "Tenure Months",
         "rawType": "int64",
         "type": "integer"
        },
        {
         "name": "Phone Service",
         "rawType": "object",
         "type": "string"
        },
        {
         "name": "Multiple Lines",
         "rawType": "object",
         "type": "string"
        },
        {
         "name": "Internet Service",
         "rawType": "object",
         "type": "string"
        },
        {
         "name": "Online Security",
         "rawType": "object",
         "type": "string"
        },
        {
         "name": "Online Backup",
         "rawType": "object",
         "type": "string"
        },
        {
         "name": "Device Protection",
         "rawType": "object",
         "type": "string"
        },
        {
         "name": "Tech Support",
         "rawType": "object",
         "type": "string"
        },
        {
         "name": "Streaming TV",
         "rawType": "object",
         "type": "string"
        },
        {
         "name": "Streaming Movies",
         "rawType": "object",
         "type": "string"
        },
        {
         "name": "Contract",
         "rawType": "object",
         "type": "string"
        },
        {
         "name": "Paperless Billing",
         "rawType": "object",
         "type": "string"
        },
        {
         "name": "Payment Method",
         "rawType": "object",
         "type": "string"
        },
        {
         "name": "Monthly Charges",
         "rawType": "float64",
         "type": "float"
        },
        {
         "name": "Total Charges",
         "rawType": "object",
         "type": "string"
        },
        {
         "name": "Churn Label",
         "rawType": "object",
         "type": "string"
        },
        {
         "name": "Churn Value",
         "rawType": "int64",
         "type": "integer"
        },
        {
         "name": "Churn Score",
         "rawType": "int64",
         "type": "integer"
        },
        {
         "name": "CLTV",
         "rawType": "int64",
         "type": "integer"
        },
        {
         "name": "Churn Reason",
         "rawType": "object",
         "type": "string"
        }
       ],
       "ref": "6ffd83b0-4a6c-4e78-ab9e-fc686e01f1b2",
       "rows": [
        [
         "0",
         "3668-QPYBK",
         "1",
         "United States",
         "California",
         "Los Angeles",
         "90003",
         "33.964131, -118.272783",
         "33.964131",
         "-118.272783",
         "Male",
         "No",
         "No",
         "No",
         "2",
         "Yes",
         "No",
         "DSL",
         "Yes",
         "Yes",
         "No",
         "No",
         "No",
         "No",
         "Month-to-month",
         "Yes",
         "Mailed check",
         "53.85",
         "108.15",
         "Yes",
         "1",
         "86",
         "3239",
         "Competitor made better offer"
        ],
        [
         "1",
         "9237-HQITU",
         "1",
         "United States",
         "California",
         "Los Angeles",
         "90005",
         "34.059281, -118.30742",
         "34.059281",
         "-118.30742",
         "Female",
         "No",
         "No",
         "Yes",
         "2",
         "Yes",
         "No",
         "Fiber optic",
         "No",
         "No",
         "No",
         "No",
         "No",
         "No",
         "Month-to-month",
         "Yes",
         "Electronic check",
         "70.7",
         "151.65",
         "Yes",
         "1",
         "67",
         "2701",
         "Moved"
        ],
        [
         "2",
         "9305-CDSKC",
         "1",
         "United States",
         "California",
         "Los Angeles",
         "90006",
         "34.048013, -118.293953",
         "34.048013",
         "-118.293953",
         "Female",
         "No",
         "No",
         "Yes",
         "8",
         "Yes",
         "Yes",
         "Fiber optic",
         "No",
         "No",
         "Yes",
         "No",
         "Yes",
         "Yes",
         "Month-to-month",
         "Yes",
         "Electronic check",
         "99.65",
         "820.5",
         "Yes",
         "1",
         "86",
         "5372",
         "Moved"
        ],
        [
         "3",
         "7892-POOKP",
         "1",
         "United States",
         "California",
         "Los Angeles",
         "90010",
         "34.062125, -118.315709",
         "34.062125",
         "-118.315709",
         "Female",
         "No",
         "Yes",
         "Yes",
         "28",
         "Yes",
         "Yes",
         "Fiber optic",
         "No",
         "No",
         "Yes",
         "Yes",
         "Yes",
         "Yes",
         "Month-to-month",
         "Yes",
         "Electronic check",
         "104.8",
         "3046.05",
         "Yes",
         "1",
         "84",
         "5003",
         "Moved"
        ],
        [
         "4",
         "0280-XJGEX",
         "1",
         "United States",
         "California",
         "Los Angeles",
         "90015",
         "34.039224, -118.266293",
         "34.039224",
         "-118.266293",
         "Male",
         "No",
         "No",
         "Yes",
         "49",
         "Yes",
         "Yes",
         "Fiber optic",
         "No",
         "Yes",
         "Yes",
         "No",
         "Yes",
         "Yes",
         "Month-to-month",
         "Yes",
         "Bank transfer (automatic)",
         "103.7",
         "5036.3",
         "Yes",
         "1",
         "89",
         "5340",
         "Competitor had better devices"
        ]
       ],
       "shape": {
        "columns": 33,
        "rows": 5
       }
      },
      "text/html": [
       "<div>\n",
       "<style scoped>\n",
       "    .dataframe tbody tr th:only-of-type {\n",
       "        vertical-align: middle;\n",
       "    }\n",
       "\n",
       "    .dataframe tbody tr th {\n",
       "        vertical-align: top;\n",
       "    }\n",
       "\n",
       "    .dataframe thead th {\n",
       "        text-align: right;\n",
       "    }\n",
       "</style>\n",
       "<table border=\"1\" class=\"dataframe\">\n",
       "  <thead>\n",
       "    <tr style=\"text-align: right;\">\n",
       "      <th></th>\n",
       "      <th>CustomerID</th>\n",
       "      <th>Count</th>\n",
       "      <th>Country</th>\n",
       "      <th>State</th>\n",
       "      <th>City</th>\n",
       "      <th>Zip Code</th>\n",
       "      <th>Lat Long</th>\n",
       "      <th>Latitude</th>\n",
       "      <th>Longitude</th>\n",
       "      <th>Gender</th>\n",
       "      <th>...</th>\n",
       "      <th>Contract</th>\n",
       "      <th>Paperless Billing</th>\n",
       "      <th>Payment Method</th>\n",
       "      <th>Monthly Charges</th>\n",
       "      <th>Total Charges</th>\n",
       "      <th>Churn Label</th>\n",
       "      <th>Churn Value</th>\n",
       "      <th>Churn Score</th>\n",
       "      <th>CLTV</th>\n",
       "      <th>Churn Reason</th>\n",
       "    </tr>\n",
       "  </thead>\n",
       "  <tbody>\n",
       "    <tr>\n",
       "      <th>0</th>\n",
       "      <td>3668-QPYBK</td>\n",
       "      <td>1</td>\n",
       "      <td>United States</td>\n",
       "      <td>California</td>\n",
       "      <td>Los Angeles</td>\n",
       "      <td>90003</td>\n",
       "      <td>33.964131, -118.272783</td>\n",
       "      <td>33.964131</td>\n",
       "      <td>-118.272783</td>\n",
       "      <td>Male</td>\n",
       "      <td>...</td>\n",
       "      <td>Month-to-month</td>\n",
       "      <td>Yes</td>\n",
       "      <td>Mailed check</td>\n",
       "      <td>53.85</td>\n",
       "      <td>108.15</td>\n",
       "      <td>Yes</td>\n",
       "      <td>1</td>\n",
       "      <td>86</td>\n",
       "      <td>3239</td>\n",
       "      <td>Competitor made better offer</td>\n",
       "    </tr>\n",
       "    <tr>\n",
       "      <th>1</th>\n",
       "      <td>9237-HQITU</td>\n",
       "      <td>1</td>\n",
       "      <td>United States</td>\n",
       "      <td>California</td>\n",
       "      <td>Los Angeles</td>\n",
       "      <td>90005</td>\n",
       "      <td>34.059281, -118.30742</td>\n",
       "      <td>34.059281</td>\n",
       "      <td>-118.307420</td>\n",
       "      <td>Female</td>\n",
       "      <td>...</td>\n",
       "      <td>Month-to-month</td>\n",
       "      <td>Yes</td>\n",
       "      <td>Electronic check</td>\n",
       "      <td>70.70</td>\n",
       "      <td>151.65</td>\n",
       "      <td>Yes</td>\n",
       "      <td>1</td>\n",
       "      <td>67</td>\n",
       "      <td>2701</td>\n",
       "      <td>Moved</td>\n",
       "    </tr>\n",
       "    <tr>\n",
       "      <th>2</th>\n",
       "      <td>9305-CDSKC</td>\n",
       "      <td>1</td>\n",
       "      <td>United States</td>\n",
       "      <td>California</td>\n",
       "      <td>Los Angeles</td>\n",
       "      <td>90006</td>\n",
       "      <td>34.048013, -118.293953</td>\n",
       "      <td>34.048013</td>\n",
       "      <td>-118.293953</td>\n",
       "      <td>Female</td>\n",
       "      <td>...</td>\n",
       "      <td>Month-to-month</td>\n",
       "      <td>Yes</td>\n",
       "      <td>Electronic check</td>\n",
       "      <td>99.65</td>\n",
       "      <td>820.5</td>\n",
       "      <td>Yes</td>\n",
       "      <td>1</td>\n",
       "      <td>86</td>\n",
       "      <td>5372</td>\n",
       "      <td>Moved</td>\n",
       "    </tr>\n",
       "    <tr>\n",
       "      <th>3</th>\n",
       "      <td>7892-POOKP</td>\n",
       "      <td>1</td>\n",
       "      <td>United States</td>\n",
       "      <td>California</td>\n",
       "      <td>Los Angeles</td>\n",
       "      <td>90010</td>\n",
       "      <td>34.062125, -118.315709</td>\n",
       "      <td>34.062125</td>\n",
       "      <td>-118.315709</td>\n",
       "      <td>Female</td>\n",
       "      <td>...</td>\n",
       "      <td>Month-to-month</td>\n",
       "      <td>Yes</td>\n",
       "      <td>Electronic check</td>\n",
       "      <td>104.80</td>\n",
       "      <td>3046.05</td>\n",
       "      <td>Yes</td>\n",
       "      <td>1</td>\n",
       "      <td>84</td>\n",
       "      <td>5003</td>\n",
       "      <td>Moved</td>\n",
       "    </tr>\n",
       "    <tr>\n",
       "      <th>4</th>\n",
       "      <td>0280-XJGEX</td>\n",
       "      <td>1</td>\n",
       "      <td>United States</td>\n",
       "      <td>California</td>\n",
       "      <td>Los Angeles</td>\n",
       "      <td>90015</td>\n",
       "      <td>34.039224, -118.266293</td>\n",
       "      <td>34.039224</td>\n",
       "      <td>-118.266293</td>\n",
       "      <td>Male</td>\n",
       "      <td>...</td>\n",
       "      <td>Month-to-month</td>\n",
       "      <td>Yes</td>\n",
       "      <td>Bank transfer (automatic)</td>\n",
       "      <td>103.70</td>\n",
       "      <td>5036.3</td>\n",
       "      <td>Yes</td>\n",
       "      <td>1</td>\n",
       "      <td>89</td>\n",
       "      <td>5340</td>\n",
       "      <td>Competitor had better devices</td>\n",
       "    </tr>\n",
       "  </tbody>\n",
       "</table>\n",
       "<p>5 rows × 33 columns</p>\n",
       "</div>"
      ],
      "text/plain": [
       "   CustomerID  Count        Country       State         City  Zip Code  \\\n",
       "0  3668-QPYBK      1  United States  California  Los Angeles     90003   \n",
       "1  9237-HQITU      1  United States  California  Los Angeles     90005   \n",
       "2  9305-CDSKC      1  United States  California  Los Angeles     90006   \n",
       "3  7892-POOKP      1  United States  California  Los Angeles     90010   \n",
       "4  0280-XJGEX      1  United States  California  Los Angeles     90015   \n",
       "\n",
       "                 Lat Long   Latitude   Longitude  Gender  ...        Contract  \\\n",
       "0  33.964131, -118.272783  33.964131 -118.272783    Male  ...  Month-to-month   \n",
       "1   34.059281, -118.30742  34.059281 -118.307420  Female  ...  Month-to-month   \n",
       "2  34.048013, -118.293953  34.048013 -118.293953  Female  ...  Month-to-month   \n",
       "3  34.062125, -118.315709  34.062125 -118.315709  Female  ...  Month-to-month   \n",
       "4  34.039224, -118.266293  34.039224 -118.266293    Male  ...  Month-to-month   \n",
       "\n",
       "  Paperless Billing             Payment Method  Monthly Charges Total Charges  \\\n",
       "0               Yes               Mailed check            53.85        108.15   \n",
       "1               Yes           Electronic check            70.70        151.65   \n",
       "2               Yes           Electronic check            99.65         820.5   \n",
       "3               Yes           Electronic check           104.80       3046.05   \n",
       "4               Yes  Bank transfer (automatic)           103.70        5036.3   \n",
       "\n",
       "  Churn Label Churn Value Churn Score  CLTV                   Churn Reason  \n",
       "0         Yes           1          86  3239   Competitor made better offer  \n",
       "1         Yes           1          67  2701                          Moved  \n",
       "2         Yes           1          86  5372                          Moved  \n",
       "3         Yes           1          84  5003                          Moved  \n",
       "4         Yes           1          89  5340  Competitor had better devices  \n",
       "\n",
       "[5 rows x 33 columns]"
      ]
     },
     "metadata": {},
     "output_type": "display_data"
    }
   ],
   "source": [
    "df = pd.read_csv(INPUT_PATH)\n",
    "print(\"Loaded dataset shape:\", df.shape)\n",
    "display(df.head())"
   ]
  },
  {
   "cell_type": "markdown",
   "id": "32e2a557",
   "metadata": {},
   "source": [
    "### Initial inspection"
   ]
  },
  {
   "cell_type": "code",
   "execution_count": 50,
   "id": "41252311",
   "metadata": {},
   "outputs": [
    {
     "name": "stdout",
     "output_type": "stream",
     "text": [
      "Columns:\n",
      " ['CustomerID', 'Count', 'Country', 'State', 'City', 'Zip Code', 'Lat Long', 'Latitude', 'Longitude', 'Gender', 'Senior Citizen', 'Partner', 'Dependents', 'Tenure Months', 'Phone Service', 'Multiple Lines', 'Internet Service', 'Online Security', 'Online Backup', 'Device Protection', 'Tech Support', 'Streaming TV', 'Streaming Movies', 'Contract', 'Paperless Billing', 'Payment Method', 'Monthly Charges', 'Total Charges', 'Churn Label', 'Churn Value', 'Churn Score', 'CLTV', 'Churn Reason']\n",
      "\n",
      "Data types:\n",
      " object     24\n",
      "int64       6\n",
      "float64     3\n",
      "Name: count, dtype: int64\n",
      "\n",
      "Missing values (count and percent):\n"
     ]
    },
    {
     "data": {
      "application/vnd.microsoft.datawrangler.viewer.v0+json": {
       "columns": [
        {
         "name": "index",
         "rawType": "object",
         "type": "string"
        },
        {
         "name": "missing_count",
         "rawType": "int64",
         "type": "integer"
        },
        {
         "name": "missing_percent",
         "rawType": "float64",
         "type": "float"
        }
       ],
       "ref": "5adab218-e57a-4426-af62-b877128d8379",
       "rows": [
        [
         "Churn Reason",
         "5174",
         "73.4630129206304"
        ],
        [
         "CustomerID",
         "0",
         "0.0"
        ],
        [
         "Count",
         "0",
         "0.0"
        ],
        [
         "State",
         "0",
         "0.0"
        ],
        [
         "Country",
         "0",
         "0.0"
        ],
        [
         "Zip Code",
         "0",
         "0.0"
        ],
        [
         "Lat Long",
         "0",
         "0.0"
        ],
        [
         "Latitude",
         "0",
         "0.0"
        ],
        [
         "City",
         "0",
         "0.0"
        ],
        [
         "Gender",
         "0",
         "0.0"
        ],
        [
         "Senior Citizen",
         "0",
         "0.0"
        ],
        [
         "Partner",
         "0",
         "0.0"
        ],
        [
         "Dependents",
         "0",
         "0.0"
        ],
        [
         "Tenure Months",
         "0",
         "0.0"
        ],
        [
         "Phone Service",
         "0",
         "0.0"
        ],
        [
         "Multiple Lines",
         "0",
         "0.0"
        ],
        [
         "Longitude",
         "0",
         "0.0"
        ],
        [
         "Internet Service",
         "0",
         "0.0"
        ],
        [
         "Online Security",
         "0",
         "0.0"
        ],
        [
         "Device Protection",
         "0",
         "0.0"
        ],
        [
         "Online Backup",
         "0",
         "0.0"
        ],
        [
         "Streaming TV",
         "0",
         "0.0"
        ],
        [
         "Streaming Movies",
         "0",
         "0.0"
        ],
        [
         "Contract",
         "0",
         "0.0"
        ],
        [
         "Tech Support",
         "0",
         "0.0"
        ],
        [
         "Paperless Billing",
         "0",
         "0.0"
        ],
        [
         "Payment Method",
         "0",
         "0.0"
        ],
        [
         "Total Charges",
         "0",
         "0.0"
        ],
        [
         "Monthly Charges",
         "0",
         "0.0"
        ],
        [
         "Churn Label",
         "0",
         "0.0"
        ],
        [
         "Churn Value",
         "0",
         "0.0"
        ],
        [
         "Churn Score",
         "0",
         "0.0"
        ],
        [
         "CLTV",
         "0",
         "0.0"
        ]
       ],
       "shape": {
        "columns": 2,
        "rows": 33
       }
      },
      "text/html": [
       "<div>\n",
       "<style scoped>\n",
       "    .dataframe tbody tr th:only-of-type {\n",
       "        vertical-align: middle;\n",
       "    }\n",
       "\n",
       "    .dataframe tbody tr th {\n",
       "        vertical-align: top;\n",
       "    }\n",
       "\n",
       "    .dataframe thead th {\n",
       "        text-align: right;\n",
       "    }\n",
       "</style>\n",
       "<table border=\"1\" class=\"dataframe\">\n",
       "  <thead>\n",
       "    <tr style=\"text-align: right;\">\n",
       "      <th></th>\n",
       "      <th>missing_count</th>\n",
       "      <th>missing_percent</th>\n",
       "    </tr>\n",
       "  </thead>\n",
       "  <tbody>\n",
       "    <tr>\n",
       "      <th>Churn Reason</th>\n",
       "      <td>5174</td>\n",
       "      <td>73.463013</td>\n",
       "    </tr>\n",
       "    <tr>\n",
       "      <th>CustomerID</th>\n",
       "      <td>0</td>\n",
       "      <td>0.000000</td>\n",
       "    </tr>\n",
       "    <tr>\n",
       "      <th>Count</th>\n",
       "      <td>0</td>\n",
       "      <td>0.000000</td>\n",
       "    </tr>\n",
       "    <tr>\n",
       "      <th>State</th>\n",
       "      <td>0</td>\n",
       "      <td>0.000000</td>\n",
       "    </tr>\n",
       "    <tr>\n",
       "      <th>Country</th>\n",
       "      <td>0</td>\n",
       "      <td>0.000000</td>\n",
       "    </tr>\n",
       "    <tr>\n",
       "      <th>Zip Code</th>\n",
       "      <td>0</td>\n",
       "      <td>0.000000</td>\n",
       "    </tr>\n",
       "    <tr>\n",
       "      <th>Lat Long</th>\n",
       "      <td>0</td>\n",
       "      <td>0.000000</td>\n",
       "    </tr>\n",
       "    <tr>\n",
       "      <th>Latitude</th>\n",
       "      <td>0</td>\n",
       "      <td>0.000000</td>\n",
       "    </tr>\n",
       "    <tr>\n",
       "      <th>City</th>\n",
       "      <td>0</td>\n",
       "      <td>0.000000</td>\n",
       "    </tr>\n",
       "    <tr>\n",
       "      <th>Gender</th>\n",
       "      <td>0</td>\n",
       "      <td>0.000000</td>\n",
       "    </tr>\n",
       "    <tr>\n",
       "      <th>Senior Citizen</th>\n",
       "      <td>0</td>\n",
       "      <td>0.000000</td>\n",
       "    </tr>\n",
       "    <tr>\n",
       "      <th>Partner</th>\n",
       "      <td>0</td>\n",
       "      <td>0.000000</td>\n",
       "    </tr>\n",
       "    <tr>\n",
       "      <th>Dependents</th>\n",
       "      <td>0</td>\n",
       "      <td>0.000000</td>\n",
       "    </tr>\n",
       "    <tr>\n",
       "      <th>Tenure Months</th>\n",
       "      <td>0</td>\n",
       "      <td>0.000000</td>\n",
       "    </tr>\n",
       "    <tr>\n",
       "      <th>Phone Service</th>\n",
       "      <td>0</td>\n",
       "      <td>0.000000</td>\n",
       "    </tr>\n",
       "    <tr>\n",
       "      <th>Multiple Lines</th>\n",
       "      <td>0</td>\n",
       "      <td>0.000000</td>\n",
       "    </tr>\n",
       "    <tr>\n",
       "      <th>Longitude</th>\n",
       "      <td>0</td>\n",
       "      <td>0.000000</td>\n",
       "    </tr>\n",
       "    <tr>\n",
       "      <th>Internet Service</th>\n",
       "      <td>0</td>\n",
       "      <td>0.000000</td>\n",
       "    </tr>\n",
       "    <tr>\n",
       "      <th>Online Security</th>\n",
       "      <td>0</td>\n",
       "      <td>0.000000</td>\n",
       "    </tr>\n",
       "    <tr>\n",
       "      <th>Device Protection</th>\n",
       "      <td>0</td>\n",
       "      <td>0.000000</td>\n",
       "    </tr>\n",
       "    <tr>\n",
       "      <th>Online Backup</th>\n",
       "      <td>0</td>\n",
       "      <td>0.000000</td>\n",
       "    </tr>\n",
       "    <tr>\n",
       "      <th>Streaming TV</th>\n",
       "      <td>0</td>\n",
       "      <td>0.000000</td>\n",
       "    </tr>\n",
       "    <tr>\n",
       "      <th>Streaming Movies</th>\n",
       "      <td>0</td>\n",
       "      <td>0.000000</td>\n",
       "    </tr>\n",
       "    <tr>\n",
       "      <th>Contract</th>\n",
       "      <td>0</td>\n",
       "      <td>0.000000</td>\n",
       "    </tr>\n",
       "    <tr>\n",
       "      <th>Tech Support</th>\n",
       "      <td>0</td>\n",
       "      <td>0.000000</td>\n",
       "    </tr>\n",
       "    <tr>\n",
       "      <th>Paperless Billing</th>\n",
       "      <td>0</td>\n",
       "      <td>0.000000</td>\n",
       "    </tr>\n",
       "    <tr>\n",
       "      <th>Payment Method</th>\n",
       "      <td>0</td>\n",
       "      <td>0.000000</td>\n",
       "    </tr>\n",
       "    <tr>\n",
       "      <th>Total Charges</th>\n",
       "      <td>0</td>\n",
       "      <td>0.000000</td>\n",
       "    </tr>\n",
       "    <tr>\n",
       "      <th>Monthly Charges</th>\n",
       "      <td>0</td>\n",
       "      <td>0.000000</td>\n",
       "    </tr>\n",
       "    <tr>\n",
       "      <th>Churn Label</th>\n",
       "      <td>0</td>\n",
       "      <td>0.000000</td>\n",
       "    </tr>\n",
       "    <tr>\n",
       "      <th>Churn Value</th>\n",
       "      <td>0</td>\n",
       "      <td>0.000000</td>\n",
       "    </tr>\n",
       "    <tr>\n",
       "      <th>Churn Score</th>\n",
       "      <td>0</td>\n",
       "      <td>0.000000</td>\n",
       "    </tr>\n",
       "    <tr>\n",
       "      <th>CLTV</th>\n",
       "      <td>0</td>\n",
       "      <td>0.000000</td>\n",
       "    </tr>\n",
       "  </tbody>\n",
       "</table>\n",
       "</div>"
      ],
      "text/plain": [
       "                   missing_count  missing_percent\n",
       "Churn Reason                5174        73.463013\n",
       "CustomerID                     0         0.000000\n",
       "Count                          0         0.000000\n",
       "State                          0         0.000000\n",
       "Country                        0         0.000000\n",
       "Zip Code                       0         0.000000\n",
       "Lat Long                       0         0.000000\n",
       "Latitude                       0         0.000000\n",
       "City                           0         0.000000\n",
       "Gender                         0         0.000000\n",
       "Senior Citizen                 0         0.000000\n",
       "Partner                        0         0.000000\n",
       "Dependents                     0         0.000000\n",
       "Tenure Months                  0         0.000000\n",
       "Phone Service                  0         0.000000\n",
       "Multiple Lines                 0         0.000000\n",
       "Longitude                      0         0.000000\n",
       "Internet Service               0         0.000000\n",
       "Online Security                0         0.000000\n",
       "Device Protection              0         0.000000\n",
       "Online Backup                  0         0.000000\n",
       "Streaming TV                   0         0.000000\n",
       "Streaming Movies               0         0.000000\n",
       "Contract                       0         0.000000\n",
       "Tech Support                   0         0.000000\n",
       "Paperless Billing              0         0.000000\n",
       "Payment Method                 0         0.000000\n",
       "Total Charges                  0         0.000000\n",
       "Monthly Charges                0         0.000000\n",
       "Churn Label                    0         0.000000\n",
       "Churn Value                    0         0.000000\n",
       "Churn Score                    0         0.000000\n",
       "CLTV                           0         0.000000"
      ]
     },
     "metadata": {},
     "output_type": "display_data"
    }
   ],
   "source": [
    "print(\"Columns:\\n\", df.columns.tolist())\n",
    "print(\"\\nData types:\\n\", df.dtypes.value_counts())\n",
    "print(\"\\nMissing values (count and percent):\")\n",
    "missing = pd.concat([df.isnull().sum(), (df.isnull().mean()*100)], axis=1)\n",
    "missing.columns = [\"missing_count\", \"missing_percent\"]\n",
    "display(missing.sort_values(by=\"missing_count\", ascending=False))"
   ]
  },
  {
   "cell_type": "code",
   "execution_count": 51,
   "id": "2ae46dde",
   "metadata": {},
   "outputs": [
    {
     "name": "stdout",
     "output_type": "stream",
     "text": [
      "<class 'pandas.core.frame.DataFrame'>\n",
      "RangeIndex: 7043 entries, 0 to 7042\n",
      "Data columns (total 33 columns):\n",
      " #   Column             Non-Null Count  Dtype  \n",
      "---  ------             --------------  -----  \n",
      " 0   CustomerID         7043 non-null   object \n",
      " 1   Count              7043 non-null   int64  \n",
      " 2   Country            7043 non-null   object \n",
      " 3   State              7043 non-null   object \n",
      " 4   City               7043 non-null   object \n",
      " 5   Zip Code           7043 non-null   int64  \n",
      " 6   Lat Long           7043 non-null   object \n",
      " 7   Latitude           7043 non-null   float64\n",
      " 8   Longitude          7043 non-null   float64\n",
      " 9   Gender             7043 non-null   object \n",
      " 10  Senior Citizen     7043 non-null   object \n",
      " 11  Partner            7043 non-null   object \n",
      " 12  Dependents         7043 non-null   object \n",
      " 13  Tenure Months      7043 non-null   int64  \n",
      " 14  Phone Service      7043 non-null   object \n",
      " 15  Multiple Lines     7043 non-null   object \n",
      " 16  Internet Service   7043 non-null   object \n",
      " 17  Online Security    7043 non-null   object \n",
      " 18  Online Backup      7043 non-null   object \n",
      " 19  Device Protection  7043 non-null   object \n",
      " 20  Tech Support       7043 non-null   object \n",
      " 21  Streaming TV       7043 non-null   object \n",
      " 22  Streaming Movies   7043 non-null   object \n",
      " 23  Contract           7043 non-null   object \n",
      " 24  Paperless Billing  7043 non-null   object \n",
      " 25  Payment Method     7043 non-null   object \n",
      " 26  Monthly Charges    7043 non-null   float64\n",
      " 27  Total Charges      7043 non-null   object \n",
      " 28  Churn Label        7043 non-null   object \n",
      " 29  Churn Value        7043 non-null   int64  \n",
      " 30  Churn Score        7043 non-null   int64  \n",
      " 31  CLTV               7043 non-null   int64  \n",
      " 32  Churn Reason       1869 non-null   object \n",
      "dtypes: float64(3), int64(6), object(24)\n",
      "memory usage: 1.8+ MB\n"
     ]
    }
   ],
   "source": [
    "df.info()"
   ]
  },
  {
   "cell_type": "code",
   "execution_count": 52,
   "id": "4dd08fb2",
   "metadata": {},
   "outputs": [
    {
     "name": "stdout",
     "output_type": "stream",
     "text": [
      "Duplicates: 0\n"
     ]
    }
   ],
   "source": [
    "print(\"Duplicates:\", df.duplicated().sum())\n"
   ]
  },
  {
   "cell_type": "code",
   "execution_count": 53,
   "id": "92b17b8f",
   "metadata": {},
   "outputs": [
    {
     "name": "stdout",
     "output_type": "stream",
     "text": [
      "Duplicates: 0\n"
     ]
    }
   ],
   "source": [
    "# remove duplicates rows\n",
    "df = df.drop_duplicates()\n",
    "print(\"Duplicates:\", df.duplicated().sum())\n"
   ]
  },
  {
   "cell_type": "code",
   "execution_count": 54,
   "id": "f01def2f",
   "metadata": {},
   "outputs": [
    {
     "name": "stdout",
     "output_type": "stream",
     "text": [
      "(7043, 27)\n"
     ]
    },
    {
     "data": {
      "application/vnd.microsoft.datawrangler.viewer.v0+json": {
       "columns": [
        {
         "name": "index",
         "rawType": "int64",
         "type": "integer"
        },
        {
         "name": "CustomerID",
         "rawType": "object",
         "type": "string"
        },
        {
         "name": "Country",
         "rawType": "object",
         "type": "string"
        },
        {
         "name": "State",
         "rawType": "object",
         "type": "string"
        },
        {
         "name": "City",
         "rawType": "object",
         "type": "string"
        },
        {
         "name": "Gender",
         "rawType": "object",
         "type": "string"
        },
        {
         "name": "Senior Citizen",
         "rawType": "object",
         "type": "string"
        },
        {
         "name": "Partner",
         "rawType": "object",
         "type": "string"
        },
        {
         "name": "Dependents",
         "rawType": "object",
         "type": "string"
        },
        {
         "name": "Tenure Months",
         "rawType": "int64",
         "type": "integer"
        },
        {
         "name": "Phone Service",
         "rawType": "object",
         "type": "string"
        },
        {
         "name": "Multiple Lines",
         "rawType": "object",
         "type": "string"
        },
        {
         "name": "Internet Service",
         "rawType": "object",
         "type": "string"
        },
        {
         "name": "Online Security",
         "rawType": "object",
         "type": "string"
        },
        {
         "name": "Online Backup",
         "rawType": "object",
         "type": "string"
        },
        {
         "name": "Device Protection",
         "rawType": "object",
         "type": "string"
        },
        {
         "name": "Tech Support",
         "rawType": "object",
         "type": "string"
        },
        {
         "name": "Streaming TV",
         "rawType": "object",
         "type": "string"
        },
        {
         "name": "Streaming Movies",
         "rawType": "object",
         "type": "string"
        },
        {
         "name": "Contract",
         "rawType": "object",
         "type": "string"
        },
        {
         "name": "Paperless Billing",
         "rawType": "object",
         "type": "string"
        },
        {
         "name": "Payment Method",
         "rawType": "object",
         "type": "string"
        },
        {
         "name": "Monthly Charges",
         "rawType": "float64",
         "type": "float"
        },
        {
         "name": "Total Charges",
         "rawType": "object",
         "type": "string"
        },
        {
         "name": "Churn Value",
         "rawType": "int64",
         "type": "integer"
        },
        {
         "name": "Churn Score",
         "rawType": "int64",
         "type": "integer"
        },
        {
         "name": "CLTV",
         "rawType": "int64",
         "type": "integer"
        },
        {
         "name": "Churn Reason",
         "rawType": "object",
         "type": "string"
        }
       ],
       "ref": "d3811f60-67e1-47e4-8bbc-bf52f1992461",
       "rows": [
        [
         "0",
         "3668-QPYBK",
         "United States",
         "California",
         "Los Angeles",
         "Male",
         "No",
         "No",
         "No",
         "2",
         "Yes",
         "No",
         "DSL",
         "Yes",
         "Yes",
         "No",
         "No",
         "No",
         "No",
         "Month-to-month",
         "Yes",
         "Mailed check",
         "53.85",
         "108.15",
         "1",
         "86",
         "3239",
         "Competitor made better offer"
        ],
        [
         "1",
         "9237-HQITU",
         "United States",
         "California",
         "Los Angeles",
         "Female",
         "No",
         "No",
         "Yes",
         "2",
         "Yes",
         "No",
         "Fiber optic",
         "No",
         "No",
         "No",
         "No",
         "No",
         "No",
         "Month-to-month",
         "Yes",
         "Electronic check",
         "70.7",
         "151.65",
         "1",
         "67",
         "2701",
         "Moved"
        ],
        [
         "2",
         "9305-CDSKC",
         "United States",
         "California",
         "Los Angeles",
         "Female",
         "No",
         "No",
         "Yes",
         "8",
         "Yes",
         "Yes",
         "Fiber optic",
         "No",
         "No",
         "Yes",
         "No",
         "Yes",
         "Yes",
         "Month-to-month",
         "Yes",
         "Electronic check",
         "99.65",
         "820.5",
         "1",
         "86",
         "5372",
         "Moved"
        ],
        [
         "3",
         "7892-POOKP",
         "United States",
         "California",
         "Los Angeles",
         "Female",
         "No",
         "Yes",
         "Yes",
         "28",
         "Yes",
         "Yes",
         "Fiber optic",
         "No",
         "No",
         "Yes",
         "Yes",
         "Yes",
         "Yes",
         "Month-to-month",
         "Yes",
         "Electronic check",
         "104.8",
         "3046.05",
         "1",
         "84",
         "5003",
         "Moved"
        ],
        [
         "4",
         "0280-XJGEX",
         "United States",
         "California",
         "Los Angeles",
         "Male",
         "No",
         "No",
         "Yes",
         "49",
         "Yes",
         "Yes",
         "Fiber optic",
         "No",
         "Yes",
         "Yes",
         "No",
         "Yes",
         "Yes",
         "Month-to-month",
         "Yes",
         "Bank transfer (automatic)",
         "103.7",
         "5036.3",
         "1",
         "89",
         "5340",
         "Competitor had better devices"
        ]
       ],
       "shape": {
        "columns": 27,
        "rows": 5
       }
      },
      "text/html": [
       "<div>\n",
       "<style scoped>\n",
       "    .dataframe tbody tr th:only-of-type {\n",
       "        vertical-align: middle;\n",
       "    }\n",
       "\n",
       "    .dataframe tbody tr th {\n",
       "        vertical-align: top;\n",
       "    }\n",
       "\n",
       "    .dataframe thead th {\n",
       "        text-align: right;\n",
       "    }\n",
       "</style>\n",
       "<table border=\"1\" class=\"dataframe\">\n",
       "  <thead>\n",
       "    <tr style=\"text-align: right;\">\n",
       "      <th></th>\n",
       "      <th>CustomerID</th>\n",
       "      <th>Country</th>\n",
       "      <th>State</th>\n",
       "      <th>City</th>\n",
       "      <th>Gender</th>\n",
       "      <th>Senior Citizen</th>\n",
       "      <th>Partner</th>\n",
       "      <th>Dependents</th>\n",
       "      <th>Tenure Months</th>\n",
       "      <th>Phone Service</th>\n",
       "      <th>...</th>\n",
       "      <th>Streaming Movies</th>\n",
       "      <th>Contract</th>\n",
       "      <th>Paperless Billing</th>\n",
       "      <th>Payment Method</th>\n",
       "      <th>Monthly Charges</th>\n",
       "      <th>Total Charges</th>\n",
       "      <th>Churn Value</th>\n",
       "      <th>Churn Score</th>\n",
       "      <th>CLTV</th>\n",
       "      <th>Churn Reason</th>\n",
       "    </tr>\n",
       "  </thead>\n",
       "  <tbody>\n",
       "    <tr>\n",
       "      <th>0</th>\n",
       "      <td>3668-QPYBK</td>\n",
       "      <td>United States</td>\n",
       "      <td>California</td>\n",
       "      <td>Los Angeles</td>\n",
       "      <td>Male</td>\n",
       "      <td>No</td>\n",
       "      <td>No</td>\n",
       "      <td>No</td>\n",
       "      <td>2</td>\n",
       "      <td>Yes</td>\n",
       "      <td>...</td>\n",
       "      <td>No</td>\n",
       "      <td>Month-to-month</td>\n",
       "      <td>Yes</td>\n",
       "      <td>Mailed check</td>\n",
       "      <td>53.85</td>\n",
       "      <td>108.15</td>\n",
       "      <td>1</td>\n",
       "      <td>86</td>\n",
       "      <td>3239</td>\n",
       "      <td>Competitor made better offer</td>\n",
       "    </tr>\n",
       "    <tr>\n",
       "      <th>1</th>\n",
       "      <td>9237-HQITU</td>\n",
       "      <td>United States</td>\n",
       "      <td>California</td>\n",
       "      <td>Los Angeles</td>\n",
       "      <td>Female</td>\n",
       "      <td>No</td>\n",
       "      <td>No</td>\n",
       "      <td>Yes</td>\n",
       "      <td>2</td>\n",
       "      <td>Yes</td>\n",
       "      <td>...</td>\n",
       "      <td>No</td>\n",
       "      <td>Month-to-month</td>\n",
       "      <td>Yes</td>\n",
       "      <td>Electronic check</td>\n",
       "      <td>70.70</td>\n",
       "      <td>151.65</td>\n",
       "      <td>1</td>\n",
       "      <td>67</td>\n",
       "      <td>2701</td>\n",
       "      <td>Moved</td>\n",
       "    </tr>\n",
       "    <tr>\n",
       "      <th>2</th>\n",
       "      <td>9305-CDSKC</td>\n",
       "      <td>United States</td>\n",
       "      <td>California</td>\n",
       "      <td>Los Angeles</td>\n",
       "      <td>Female</td>\n",
       "      <td>No</td>\n",
       "      <td>No</td>\n",
       "      <td>Yes</td>\n",
       "      <td>8</td>\n",
       "      <td>Yes</td>\n",
       "      <td>...</td>\n",
       "      <td>Yes</td>\n",
       "      <td>Month-to-month</td>\n",
       "      <td>Yes</td>\n",
       "      <td>Electronic check</td>\n",
       "      <td>99.65</td>\n",
       "      <td>820.5</td>\n",
       "      <td>1</td>\n",
       "      <td>86</td>\n",
       "      <td>5372</td>\n",
       "      <td>Moved</td>\n",
       "    </tr>\n",
       "    <tr>\n",
       "      <th>3</th>\n",
       "      <td>7892-POOKP</td>\n",
       "      <td>United States</td>\n",
       "      <td>California</td>\n",
       "      <td>Los Angeles</td>\n",
       "      <td>Female</td>\n",
       "      <td>No</td>\n",
       "      <td>Yes</td>\n",
       "      <td>Yes</td>\n",
       "      <td>28</td>\n",
       "      <td>Yes</td>\n",
       "      <td>...</td>\n",
       "      <td>Yes</td>\n",
       "      <td>Month-to-month</td>\n",
       "      <td>Yes</td>\n",
       "      <td>Electronic check</td>\n",
       "      <td>104.80</td>\n",
       "      <td>3046.05</td>\n",
       "      <td>1</td>\n",
       "      <td>84</td>\n",
       "      <td>5003</td>\n",
       "      <td>Moved</td>\n",
       "    </tr>\n",
       "    <tr>\n",
       "      <th>4</th>\n",
       "      <td>0280-XJGEX</td>\n",
       "      <td>United States</td>\n",
       "      <td>California</td>\n",
       "      <td>Los Angeles</td>\n",
       "      <td>Male</td>\n",
       "      <td>No</td>\n",
       "      <td>No</td>\n",
       "      <td>Yes</td>\n",
       "      <td>49</td>\n",
       "      <td>Yes</td>\n",
       "      <td>...</td>\n",
       "      <td>Yes</td>\n",
       "      <td>Month-to-month</td>\n",
       "      <td>Yes</td>\n",
       "      <td>Bank transfer (automatic)</td>\n",
       "      <td>103.70</td>\n",
       "      <td>5036.3</td>\n",
       "      <td>1</td>\n",
       "      <td>89</td>\n",
       "      <td>5340</td>\n",
       "      <td>Competitor had better devices</td>\n",
       "    </tr>\n",
       "  </tbody>\n",
       "</table>\n",
       "<p>5 rows × 27 columns</p>\n",
       "</div>"
      ],
      "text/plain": [
       "   CustomerID        Country       State         City  Gender Senior Citizen  \\\n",
       "0  3668-QPYBK  United States  California  Los Angeles    Male             No   \n",
       "1  9237-HQITU  United States  California  Los Angeles  Female             No   \n",
       "2  9305-CDSKC  United States  California  Los Angeles  Female             No   \n",
       "3  7892-POOKP  United States  California  Los Angeles  Female             No   \n",
       "4  0280-XJGEX  United States  California  Los Angeles    Male             No   \n",
       "\n",
       "  Partner Dependents  Tenure Months Phone Service  ... Streaming Movies  \\\n",
       "0      No         No              2           Yes  ...               No   \n",
       "1      No        Yes              2           Yes  ...               No   \n",
       "2      No        Yes              8           Yes  ...              Yes   \n",
       "3     Yes        Yes             28           Yes  ...              Yes   \n",
       "4      No        Yes             49           Yes  ...              Yes   \n",
       "\n",
       "         Contract Paperless Billing             Payment Method  \\\n",
       "0  Month-to-month               Yes               Mailed check   \n",
       "1  Month-to-month               Yes           Electronic check   \n",
       "2  Month-to-month               Yes           Electronic check   \n",
       "3  Month-to-month               Yes           Electronic check   \n",
       "4  Month-to-month               Yes  Bank transfer (automatic)   \n",
       "\n",
       "  Monthly Charges Total Charges Churn Value Churn Score  CLTV  \\\n",
       "0           53.85        108.15           1          86  3239   \n",
       "1           70.70        151.65           1          67  2701   \n",
       "2           99.65         820.5           1          86  5372   \n",
       "3          104.80       3046.05           1          84  5003   \n",
       "4          103.70        5036.3           1          89  5340   \n",
       "\n",
       "                    Churn Reason  \n",
       "0   Competitor made better offer  \n",
       "1                          Moved  \n",
       "2                          Moved  \n",
       "3                          Moved  \n",
       "4  Competitor had better devices  \n",
       "\n",
       "[5 rows x 27 columns]"
      ]
     },
     "execution_count": 54,
     "metadata": {},
     "output_type": "execute_result"
    }
   ],
   "source": [
    "# Drop unneeded columns\n",
    "\n",
    "cols_to_drop = [\"Churn Label\", \"Lat Long\", \"Latitude\", \"Longitude\", \"Count\", \"Zip Code\"]\n",
    "cols_present_to_drop = [c for c in cols_to_drop if c in df.columns]\n",
    "df.drop(columns=cols_present_to_drop, inplace=True, errors=\"ignore\")\n",
    "print(df.shape)\n",
    "df.head()\n",
    "\n"
   ]
  },
  {
   "cell_type": "code",
   "execution_count": 55,
   "id": "2f362476",
   "metadata": {},
   "outputs": [
    {
     "name": "stdout",
     "output_type": "stream",
     "text": [
      "Converted 'Total Charges' to numeric. NaNs after conversion: 11\n"
     ]
    }
   ],
   "source": [
    "# Convert Total Charges to numeric\n",
    "if \"Total Charges\" in df.columns:\n",
    "   df[\"Total Charges\"] = pd.to_numeric(df[\"Total Charges\"], errors=\"coerce\")\n",
    "print(\"Converted 'Total Charges' to numeric. NaNs after conversion:\", df[\"Total Charges\"].isnull().sum())"
   ]
  },
  {
   "cell_type": "code",
   "execution_count": 56,
   "id": "9cbf80bb",
   "metadata": {},
   "outputs": [
    {
     "name": "stdout",
     "output_type": "stream",
     "text": [
      "CustomerID              0\n",
      "Country                 0\n",
      "State                   0\n",
      "City                    0\n",
      "Gender                  0\n",
      "Senior Citizen          0\n",
      "Partner                 0\n",
      "Dependents              0\n",
      "Tenure Months           0\n",
      "Phone Service           0\n",
      "Multiple Lines          0\n",
      "Internet Service        0\n",
      "Online Security         0\n",
      "Online Backup           0\n",
      "Device Protection       0\n",
      "Tech Support            0\n",
      "Streaming TV            0\n",
      "Streaming Movies        0\n",
      "Contract                0\n",
      "Paperless Billing       0\n",
      "Payment Method          0\n",
      "Monthly Charges         0\n",
      "Total Charges          11\n",
      "Churn Value             0\n",
      "Churn Score             0\n",
      "CLTV                    0\n",
      "Churn Reason         5174\n",
      "dtype: int64\n"
     ]
    }
   ],
   "source": [
    "print(df.isnull().sum())"
   ]
  },
  {
   "cell_type": "code",
   "execution_count": 57,
   "id": "c92e670a",
   "metadata": {},
   "outputs": [
    {
     "name": "stdout",
     "output_type": "stream",
     "text": [
      "Numeric features: ['Tenure Months', 'Monthly Charges', 'Total Charges', 'Churn Value', 'Churn Score', 'CLTV']\n",
      "Categorical columns: ['CustomerID', 'Country', 'State', 'City', 'Gender', 'Senior Citizen', 'Partner', 'Dependents', 'Phone Service', 'Multiple Lines', 'Internet Service', 'Online Security', 'Online Backup', 'Device Protection', 'Tech Support', 'Streaming TV', 'Streaming Movies', 'Contract', 'Paperless Billing', 'Payment Method', 'Churn Reason']\n",
      "Imputed numeric 'Total Charges' with median: 1397.475\n",
      "Imputed categorical 'Churn Reason' with mode: Attitude of support person\n"
     ]
    },
    {
     "name": "stderr",
     "output_type": "stream",
     "text": [
      "C:\\Users\\dell\\AppData\\Local\\Temp\\ipykernel_23780\\3627039448.py:18: FutureWarning: A value is trying to be set on a copy of a DataFrame or Series through chained assignment using an inplace method.\n",
      "The behavior will change in pandas 3.0. This inplace method will never work because the intermediate object on which we are setting values always behaves as a copy.\n",
      "\n",
      "For example, when doing 'df[col].method(value, inplace=True)', try using 'df.method({col: value}, inplace=True)' or df[col] = df[col].method(value) instead, to perform the operation inplace on the original object.\n",
      "\n",
      "\n",
      "  df[c].fillna(median_val, inplace=True)\n",
      "C:\\Users\\dell\\AppData\\Local\\Temp\\ipykernel_23780\\3627039448.py:24: FutureWarning: A value is trying to be set on a copy of a DataFrame or Series through chained assignment using an inplace method.\n",
      "The behavior will change in pandas 3.0. This inplace method will never work because the intermediate object on which we are setting values always behaves as a copy.\n",
      "\n",
      "For example, when doing 'df[col].method(value, inplace=True)', try using 'df.method({col: value}, inplace=True)' or df[col] = df[col].method(value) instead, to perform the operation inplace on the original object.\n",
      "\n",
      "\n",
      "  df[c].fillna(mode_val, inplace=True)\n"
     ]
    }
   ],
   "source": [
    "#Separate column types\n",
    "\n",
    "numeric_cols = df.select_dtypes(include=[np.number]).columns.tolist()\n",
    "\n",
    "numeric_features = [c for c in numeric_cols]\n",
    "categorical_cols = df.select_dtypes(include=[\"object\", \"category\"]).columns.tolist()\n",
    "\n",
    "print(\"Numeric features:\", numeric_features)\n",
    "print(\"Categorical columns:\", categorical_cols)\n",
    "\n",
    "\n",
    "#Impute missing values\n",
    "#Numeric -> median, Categorical -> mode\n",
    "\n",
    "for c in numeric_features:\n",
    "    if df[c].isnull().any():\n",
    "        median_val = df[c].median()\n",
    "        df[c].fillna(median_val, inplace=True)\n",
    "        print(f\"Imputed numeric '{c}' with median: {median_val}\")\n",
    "\n",
    "for c in categorical_cols:\n",
    "    if df[c].isnull().any():\n",
    "        mode_val = df[c].mode().iloc[0]\n",
    "        df[c].fillna(mode_val, inplace=True)\n",
    "        print(f\"Imputed categorical '{c}' with mode: {mode_val}\")"
   ]
  },
  {
   "cell_type": "code",
   "execution_count": 58,
   "id": "f4f64dc7",
   "metadata": {},
   "outputs": [
    {
     "name": "stdout",
     "output_type": "stream",
     "text": [
      "CustomerID           0\n",
      "Country              0\n",
      "State                0\n",
      "City                 0\n",
      "Gender               0\n",
      "Senior Citizen       0\n",
      "Partner              0\n",
      "Dependents           0\n",
      "Tenure Months        0\n",
      "Phone Service        0\n",
      "Multiple Lines       0\n",
      "Internet Service     0\n",
      "Online Security      0\n",
      "Online Backup        0\n",
      "Device Protection    0\n",
      "Tech Support         0\n",
      "Streaming TV         0\n",
      "Streaming Movies     0\n",
      "Contract             0\n",
      "Paperless Billing    0\n",
      "Payment Method       0\n",
      "Monthly Charges      0\n",
      "Total Charges        0\n",
      "Churn Value          0\n",
      "Churn Score          0\n",
      "CLTV                 0\n",
      "Churn Reason         0\n",
      "dtype: int64\n"
     ]
    }
   ],
   "source": [
    "print(df.isnull().sum())"
   ]
  },
  {
   "cell_type": "code",
   "execution_count": 59,
   "id": "fc26987b",
   "metadata": {},
   "outputs": [
    {
     "name": "stdout",
     "output_type": "stream",
     "text": [
      "<class 'pandas.core.frame.DataFrame'>\n",
      "RangeIndex: 7043 entries, 0 to 7042\n",
      "Data columns (total 27 columns):\n",
      " #   Column             Non-Null Count  Dtype  \n",
      "---  ------             --------------  -----  \n",
      " 0   CustomerID         7043 non-null   object \n",
      " 1   Country            7043 non-null   object \n",
      " 2   State              7043 non-null   object \n",
      " 3   City               7043 non-null   object \n",
      " 4   Gender             7043 non-null   object \n",
      " 5   Senior Citizen     7043 non-null   object \n",
      " 6   Partner            7043 non-null   object \n",
      " 7   Dependents         7043 non-null   object \n",
      " 8   Tenure Months      7043 non-null   int64  \n",
      " 9   Phone Service      7043 non-null   object \n",
      " 10  Multiple Lines     7043 non-null   object \n",
      " 11  Internet Service   7043 non-null   object \n",
      " 12  Online Security    7043 non-null   object \n",
      " 13  Online Backup      7043 non-null   object \n",
      " 14  Device Protection  7043 non-null   object \n",
      " 15  Tech Support       7043 non-null   object \n",
      " 16  Streaming TV       7043 non-null   object \n",
      " 17  Streaming Movies   7043 non-null   object \n",
      " 18  Contract           7043 non-null   object \n",
      " 19  Paperless Billing  7043 non-null   object \n",
      " 20  Payment Method     7043 non-null   object \n",
      " 21  Monthly Charges    7043 non-null   float64\n",
      " 22  Total Charges      7043 non-null   float64\n",
      " 23  Churn Value        7043 non-null   int64  \n",
      " 24  Churn Score        7043 non-null   int64  \n",
      " 25  CLTV               7043 non-null   int64  \n",
      " 26  Churn Reason       7043 non-null   object \n",
      "dtypes: float64(2), int64(4), object(21)\n",
      "memory usage: 1.5+ MB\n"
     ]
    }
   ],
   "source": [
    "df.info()"
   ]
  },
  {
   "cell_type": "code",
   "execution_count": 60,
   "id": "32ee8a33",
   "metadata": {},
   "outputs": [
    {
     "name": "stdout",
     "output_type": "stream",
     "text": [
      "Mapped binary-like column 'Gender' using binary_map.\n",
      "Mapped binary-like column 'Senior Citizen' using binary_map.\n",
      "Mapped binary-like column 'Partner' using binary_map.\n",
      "Mapped binary-like column 'Dependents' using binary_map.\n",
      "Mapped binary-like column 'Phone Service' using binary_map.\n",
      "Mapped binary-like column 'Paperless Billing' using binary_map.\n"
     ]
    }
   ],
   "source": [
    "# Binary encoding (common mappings)\n",
    "\n",
    "binary_map = {\n",
    "\"Yes\": 1, \"No\": 0,\n",
    "\"Male\": 1, \"Female\": 0,\n",
    "\"no\": 0, \"yes\": 1, # lower-case safety\n",
    "\"No phone service\": 0,\n",
    "\"No internet service\": 0\n",
    "}\n",
    "\n",
    "# Apply mapping for columns with exactly two unique values (after imputation)\n",
    "\n",
    "for c in list(categorical_cols): # copy to avoid modification issues\n",
    "    uniques = df[c].dropna().unique()\n",
    "    if len(uniques) == 2:\n",
    "    # attempt map; fallback to label encoding if mapping not found\n",
    "        mapped = df[c].map(binary_map)\n",
    "        if mapped.isnull().all():\n",
    "        # fallback numeric label encoding\n",
    "            df[c] = pd.factorize(df[c])[0]\n",
    "            print(f\"Label-encoded binary column '{c}' (factorize).\")\n",
    "        else:\n",
    "            df[c] = mapped.fillna(df[c])\n",
    "            print(f\"Mapped binary-like column '{c}' using binary_map.\")"
   ]
  },
  {
   "cell_type": "code",
   "execution_count": 61,
   "id": "8beb2eb9",
   "metadata": {},
   "outputs": [
    {
     "name": "stdout",
     "output_type": "stream",
     "text": [
      "✅ Cleaned dataset saved to: RawData/cleaned_customer_churn.csv\n"
     ]
    }
   ],
   "source": [
    "# save data after cleaning and\n",
    "df.to_csv(OUTPUT_PATH, index=False)\n",
    "print(f\"✅ Cleaned dataset saved to: {OUTPUT_PATH}\")"
   ]
  },
  {
   "cell_type": "code",
   "execution_count": null,
   "id": "b052c8b6",
   "metadata": {},
   "outputs": [],
   "source": [
    "# Column Name\t                                              Description\n",
    "# CustomerID\t                                              Unique identifier for each customer\t\n",
    "# Count\t                                                      Likely indicates number of connections or linked services (often always 1 in many datasets)\t\n",
    "# Country / State / City / Zip Code\t                          Geographic location of the customer\t\n",
    "# Lat Long / Latitude / Longitude\t                          Precise geographic coordinates\t\n",
    "# Gender\tMale / Female\t\n",
    "# Senior Citizen\t                                          Indicates if customer is a senior (e.g., age 65+)\tSeniors may churn differently than younger customers\n",
    "# Partner\t                                                  Whether the customer has a partner/spouse\t\n",
    "# Dependents\t                                              Whether others rely on the customer (e.g., children)\t\n",
    "# Tenure\t                                                  Number of months the customer has stayed with the company  \n",
    "# Phone Service\t                                              Whether they subscribed to basic phone service\t\n",
    "# Multiple Lines\t                                          Indicates if they have more than one phone line\tCustomers with multiple services are more likely to stay\n",
    "# Internet Service\tType of internet (DSL / Fiber / None)\t\n",
    "# Online Security / Online Backup / Device Protection / Tech Support / Streaming TV / Streaming Movies\tOptional add-on services\t\n",
    "# Contract\tMonth-to-month / One year / Two years\t\n",
    "# Paperless Billing\tYes / No                                digital or paper invoices\t\n",
    "# Payment Method\t                                        Electronic check, credit card, bank transfer, etc.\t\n",
    "# Monthly Charges\t                                        Amount billed per month\tHigh monthly cost customers might be more likely to leave\n",
    "# Total Charges\t                                            Lifetime revenue from the customer\t\n",
    "# Churn Label\tYes / No —                                  Did the customer leave?\tText-based target column\n",
    "# Churn Value\t0 / 1                                       numerical version of churn\tNumeric target column (better for modeling)\n",
    "# Churn Score\t                                            Predefined churn probability score from another system\t\n",
    "# CLTV (Customer Lifetime Value)\t                        Estimated business value of this customer in the long-term\t\n",
    "# Churn Reason\t                                            Stated reason for leaving (if churned)\t"
   ]
  }
 ],
 "metadata": {
  "kernelspec": {
   "display_name": "Python 3",
   "language": "python",
   "name": "python3"
  },
  "language_info": {
   "codemirror_mode": {
    "name": "ipython",
    "version": 3
   },
   "file_extension": ".py",
   "mimetype": "text/x-python",
   "name": "python",
   "nbconvert_exporter": "python",
   "pygments_lexer": "ipython3",
   "version": "3.13.2"
  }
 },
 "nbformat": 4,
 "nbformat_minor": 5
}
